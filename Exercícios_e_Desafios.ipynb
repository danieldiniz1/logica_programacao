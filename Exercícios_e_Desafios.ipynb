{
  "nbformat": 4,
  "nbformat_minor": 0,
  "metadata": {
    "colab": {
      "name": "Exercícios e Desafios.ipynb",
      "provenance": [],
      "authorship_tag": "ABX9TyNPZHwtZl48jY8L+l1Uo8By",
      "include_colab_link": true
    },
    "kernelspec": {
      "name": "python3",
      "display_name": "Python 3"
    },
    "language_info": {
      "name": "python"
    }
  },
  "cells": [
    {
      "cell_type": "markdown",
      "metadata": {
        "id": "view-in-github",
        "colab_type": "text"
      },
      "source": [
        "<a href=\"https://colab.research.google.com/github/danieldiniz1/logica_programacao/blob/main/Exerc%C3%ADcios_e_Desafios.ipynb\" target=\"_parent\"><img src=\"https://colab.research.google.com/assets/colab-badge.svg\" alt=\"Open In Colab\"/></a>"
      ]
    },
    {
      "cell_type": "markdown",
      "metadata": {
        "id": "V6byHCv0ZC4A"
      },
      "source": [
        "#Exercício 1: \n",
        "\"Faça um Programa que leia três números inteiros, em seguida mostre o maior e o menor deles.\"\n"
      ]
    },
    {
      "cell_type": "code",
      "metadata": {
        "colab": {
          "base_uri": "https://localhost:8080/"
        },
        "id": "ODzF512xY93A",
        "outputId": "1d1e11b2-e9ee-4664-e312-1f63617a6ade"
      },
      "source": [
        "a = 1\n",
        "b = 2\n",
        "c = 3\n",
        "\n",
        "maior = ''\n",
        "menor = ''\n",
        "\n",
        "if a > b and a > c:\n",
        "  maior = a\n",
        "elif b > a and b > c:\n",
        "  maior = numero3\n",
        "else:\n",
        "  maior = c\n",
        "\n",
        "if a < b and a < c:\n",
        "  menor = a\n",
        "elif b < a and b < c:\n",
        "  menor = b \n",
        "else:\n",
        "  menor = c\n",
        "\n",
        "print(f'O maior número é {maior} e o menor é {menor}')"
      ],
      "execution_count": null,
      "outputs": [
        {
          "output_type": "stream",
          "text": [
            "O maior número é 3 e o menor é 1\n"
          ],
          "name": "stdout"
        }
      ]
    },
    {
      "cell_type": "markdown",
      "metadata": {
        "id": "2zk01mzZacDA"
      },
      "source": [
        "#Exercício 2\n",
        "Faça um programa que peça dois números e imprima o maior deles.\n",
        "\n"
      ]
    },
    {
      "cell_type": "code",
      "metadata": {
        "colab": {
          "base_uri": "https://localhost:8080/"
        },
        "id": "ymwrOFHHau3U",
        "outputId": "d4c58ad5-f8e8-4d5d-e808-0d2034b886f0"
      },
      "source": [
        "numero1 = int(input('Digite um número inteiro: '))\n",
        "numero2 = int(input('Digite um número inteiro: '))\n",
        "\n",
        "if numero1 > numero2:\n",
        "  print(f'O maior número é {numero1}')\n",
        "else:\n",
        "  print(f'O maior número é {numero2}')"
      ],
      "execution_count": null,
      "outputs": [
        {
          "output_type": "stream",
          "text": [
            "Digite um número inteiro: 10\n",
            "Digite um número inteiro: 2\n",
            "O maior número é 10\n"
          ],
          "name": "stdout"
        }
      ]
    },
    {
      "cell_type": "markdown",
      "metadata": {
        "id": "Y9ZM-9bqbCoo"
      },
      "source": [
        "#Exercício 3 \n",
        "Faça um script que peça um valor e mostre na tela se o valor é positivo ou negativo."
      ]
    },
    {
      "cell_type": "code",
      "metadata": {
        "colab": {
          "base_uri": "https://localhost:8080/"
        },
        "id": "YdbPyZHTbKkC",
        "outputId": "71d1ba12-1a59-42ef-cb58-f2485d13e7a3"
      },
      "source": [
        "numero = int(input('Digite um número: '))\n",
        "\n",
        "if numero > 0:\n",
        "  print(f'O numero {numero} é positivo!')\n",
        "else:\n",
        "  print(f'O numero {numero} é negativo!')"
      ],
      "execution_count": null,
      "outputs": [
        {
          "output_type": "stream",
          "text": [
            "Digite um número: -20\n",
            "O numero -20 é negativo!\n"
          ],
          "name": "stdout"
        }
      ]
    },
    {
      "cell_type": "markdown",
      "metadata": {
        "id": "bCNSeP26bmGz"
      },
      "source": [
        "#Exercício 4 \n",
        "Crie um programa que verifique se uma letra digitada é \"F\" ou \"M\". Conforme a letra escrever: F - Feminino, M - Masculino, Sexo Inválido."
      ]
    },
    {
      "cell_type": "code",
      "metadata": {
        "colab": {
          "base_uri": "https://localhost:8080/"
        },
        "id": "YThIq-uYbrG4",
        "outputId": "22a826b9-f981-4874-e119-ef0c75205625"
      },
      "source": [
        "sexo = input('Digite o sexo (F - feminino; M - Masculino): ')\n",
        "\n",
        "if sexo != 'F' and sexo != 'M':\n",
        "  print('Sexo Inválido')\n",
        "elif sexo == 'F':\n",
        "  print('Feminino')\n",
        "else:\n",
        "  print('Masculino')"
      ],
      "execution_count": null,
      "outputs": [
        {
          "output_type": "stream",
          "text": [
            "Digite o sexo (F - feminino; M - Masculino): M\n",
            "Masculino\n"
          ],
          "name": "stdout"
        }
      ]
    },
    {
      "cell_type": "markdown",
      "metadata": {
        "id": "yRbGJbVicz3t"
      },
      "source": [
        "#Exercício 5 \n",
        "Crie um programa em Python que peça a nota do aluno, que deve ser um float entre 0.00 e 10.0\n",
        "  *\tSe a nota for menor que 6.0, deve exibir a nota F.\n",
        "  *\tSe a nota for de 6.0 até 7.0, deve exibir a nota D.\n",
        "  *\tSe a nota for entre 7.0 e 8.0, deve exibir a nota C.\n",
        "  *\tSe a nota for entre 8.0 e 9.0, deve exibir a nota B.\n",
        "  *\tPor fim, se for entre 9.0 e 10.0, deve exibir um belo de um A.\n",
        "\n",
        "\n",
        "\n"
      ]
    },
    {
      "cell_type": "code",
      "metadata": {
        "colab": {
          "base_uri": "https://localhost:8080/"
        },
        "id": "t2F4tBcGc-1k",
        "outputId": "5ee2633a-7e96-4d0f-f344-36ca6d21b67d"
      },
      "source": [
        "nota_aluno = float(input('Digite a nota do aluno: '))\n",
        "\n",
        "if nota_aluno < 0:\n",
        "  print('Nota Inválida')\n",
        "elif nota_aluno < 6:\n",
        "  print('Nota F')\n",
        "elif nota_aluno < 7:\n",
        "  print('Nota D')\n",
        "elif nota_aluno < 8:\n",
        "  print('Nota C')\n",
        "elif nota_aluno < 9:\n",
        "  print('Nota B')\n",
        "elif nota_aluno <= 10:\n",
        "  print('Nota A')\n",
        "else:\n",
        "  print('Nota Inválida')\n",
        "\n"
      ],
      "execution_count": null,
      "outputs": [
        {
          "output_type": "stream",
          "text": [
            "Digite a nota do aluno: 6\n",
            "Nota D\n"
          ],
          "name": "stdout"
        }
      ]
    },
    {
      "cell_type": "markdown",
      "metadata": {
        "id": "qZesC0b8fJYK"
      },
      "source": [
        "#Exercício 6 \n",
        " Faça um Programa que verifique se uma letra digitada é vogal ou consoante"
      ]
    },
    {
      "cell_type": "code",
      "metadata": {
        "colab": {
          "base_uri": "https://localhost:8080/"
        },
        "id": "D8zHrEEBfPE9",
        "outputId": "3ba2a2ce-58f6-42be-cc5f-c35f4046d87c"
      },
      "source": [
        "vogais = ['a', 'e', 'i', 'o', 'u']\n",
        "letra = input('Digite uma letra: ')\n",
        "if letra in vogais:\n",
        "  print(f'A letra \"{letra}\" é uma vogal')\n",
        "else:\n",
        "  print(f'A letra \"{letra}\" é uma consoante')"
      ],
      "execution_count": null,
      "outputs": [
        {
          "output_type": "stream",
          "text": [
            "Digite uma letra: b\n",
            "A letra \"b\" é uma consoante\n"
          ],
          "name": "stdout"
        }
      ]
    },
    {
      "cell_type": "markdown",
      "metadata": {
        "id": "s-6pbL4ufv49"
      },
      "source": [
        "#PROJETO 1\n",
        "###Resultado da primeira/segunda aula em Python:\n",
        "*\tEscreva um programa que receba uma string digitada pelo usuário;\n",
        "*\tCaso a string seja \"medieval\", exiba no console \"espada\";\n",
        "*\tCaso contrário, se a string for \"futurista\", exiba no console \"sabre de luz\";\n",
        "*\tCaso contrário, exiba no console \"Tente novamente\"\n"
      ]
    },
    {
      "cell_type": "code",
      "metadata": {
        "colab": {
          "base_uri": "https://localhost:8080/"
        },
        "id": "4thfwQqkf5Bt",
        "outputId": "5180d22d-2fef-4ffd-ce2a-0997733569ec"
      },
      "source": [
        "palavra = input('escolha uma palavra (Medieval ou Futurista): ').lower()\n",
        "\n",
        "if palavra == 'medieval':\n",
        "  print('Espada')\n",
        "elif palavra == 'futurista':\n",
        "  print('Sabre de Luz')\n",
        "else:\n",
        "  print('Palavra Inválida')\n"
      ],
      "execution_count": null,
      "outputs": [
        {
          "output_type": "stream",
          "text": [
            "escolha uma palavra (Medieval ou Futurista): asda\n",
            "Palavra Inválida\n"
          ],
          "name": "stdout"
        }
      ]
    },
    {
      "cell_type": "markdown",
      "metadata": {
        "id": "VBXcsLIJiIIm"
      },
      "source": [
        "#Continuação do PROJETO 1\n",
        "*\tEscreva um programa que receba um ataque de espada ou sabre digitada pelo usuário;\n",
        "*\tCaso o ataque seja \"espada\", exiba no console \"VOCÊ AINDA NÃO MATOU O CHEFÃO\";\n",
        "*\tCaso contrário, se o ataque for \"sabre\", exiba no console \"VOCÊ DERROTOU O CHEFÃO COM O SABRE DE LUZ\";\n",
        "*\tCaso contrário, exiba no console \"ATAQUE NOVAMENTE\"\n"
      ]
    },
    {
      "cell_type": "code",
      "metadata": {
        "colab": {
          "base_uri": "https://localhost:8080/"
        },
        "id": "NKUs6UVuiXzN",
        "outputId": "3448da90-7f45-4e7a-9d3f-5b11d10083ba"
      },
      "source": [
        "palavra = input('Digite um ataque (Medieval ou Futurista): ').lower()\n",
        "\n",
        "if palavra == 'medieval':\n",
        "  print('Você escolheu Espada e ainda não matou o chefão!')\n",
        "elif palavra == 'futurista':\n",
        "  print('Você escolheu Sabre de Luz e derrotou o chefão')\n",
        "else:\n",
        "  print('Ataque Novamente')"
      ],
      "execution_count": null,
      "outputs": [
        {
          "output_type": "stream",
          "text": [
            "Digite um ataque (Medieval ou Futurista): sadasd\n",
            "Ataque Novamente\n"
          ],
          "name": "stdout"
        }
      ]
    },
    {
      "cell_type": "markdown",
      "metadata": {
        "id": "d24SuQ5HjKAm"
      },
      "source": [
        "#DESAFIO - \n",
        "###As empresas @.com resolveram dar um aumento de salário aos seus colaboradores e lhe contrataram para desenvolver o programa que calculará os reajustes.\n",
        "\n",
        "Faça um programa que recebe o salário de um colaborador e o reajuste segundo o seguinte critério, baseado no salário atual:\n",
        "  *\tsalários até R$ 280,00 (incluindo) - aumento de 20% \n",
        "\n",
        "  *\tsalários entre R$ 280,00 e R$ 700,00 : aumento de 15%\n",
        "\n",
        "  *\tsalários entre R$ 700,00 e R$ 1500,00 : aumento de 10%\n",
        "\n",
        "  *\tsalários de R$ 1500,00 em diante : aumento de 5%\n",
        "\n",
        "Após o aumento ser realizado, informe na tela:\n",
        "  *\to salário antes do reajuste;\n",
        "  *\to percentual de aumento aplicado;\n",
        "  *\to valor do aumento;\n",
        "  *\to novo salário, após o aumento.\"\n"
      ]
    },
    {
      "cell_type": "code",
      "metadata": {
        "colab": {
          "base_uri": "https://localhost:8080/"
        },
        "id": "suYw7se0jc1F",
        "outputId": "9e46c952-ec7d-4ecd-ef6a-20219f673e41"
      },
      "source": [
        "#input\n",
        "\n",
        "salario = float(input('Digite seu salário atual'))\n",
        "\n",
        "#processamento \n",
        "\n",
        "if salario <= 280:\n",
        "  salario_reajustado = salario * 1.2\n",
        "  dif_salario = salario_reajustado - salario\n",
        "  percentual_aumento = '20%'\n",
        "elif salario <= 700:\n",
        "  salario_reajustado = salario * 1.15\n",
        "  dif_salario = salario_reajustado - salario\n",
        "  percentual_aumento = '15%'\n",
        "elif salario <= 1500:\n",
        "  salario_reajustado = salario * 1.1\n",
        "  dif_salario = salario_reajustado - salario\n",
        "  percentual_aumento = '10%'\n",
        "else:\n",
        "  salario_reajustado = salario * 1.05\n",
        "  dif_salario = salario_reajustado - salario\n",
        "  percentual_aumento = '5%'\n",
        "\n",
        "#output\n",
        "print(f'O seu salário de R$ {salario} recebeu um aumento de R${dif_salario:.2f} que seginifica aumento percentual de {percentual_aumento} resutlando em R$ {salario_reajustado:.2f}!')\n"
      ],
      "execution_count": null,
      "outputs": [
        {
          "output_type": "stream",
          "text": [
            "Digite seu salário atual700\n",
            "O seu salário de R$ 700.0 recebeu um aumento de R$105.00 que seginifica aumento percentual de 15% resutlando em R$ 805.00!\n"
          ],
          "name": "stdout"
        }
      ]
    },
    {
      "cell_type": "markdown",
      "metadata": {
        "id": "tlKnyG73pdzJ"
      },
      "source": [
        "#DESAFIO\n",
        "Faça um Programa para um caixa eletrônico. O programa deverá perguntar ao usuário a valor do saque e depois informar quantas notas de cada valor serão fornecidas. As notas disponíveis serão as de 1, 5, 10, 50 e 100 reais. O valor mínimo é de 10 reais e o máximo de 600 reais. O programa não deve se preocupar com a quantidade de notas existentes na máquina.\n",
        "*\tExemplo 1: Para sacar a quantia de 256 reais, o programa fornece duas notas de 100, uma nota de 50, uma nota de 5 e uma nota de 1;\n",
        "*\tExemplo 2: Para sacar a quantia de 399 reais, o programa fornece três notas de 100, uma nota de 50, quatro notas de 10, uma nota de 5 e quatro notas de 1.\n"
      ]
    },
    {
      "cell_type": "code",
      "metadata": {
        "id": "BR5naZ-5pko8",
        "colab": {
          "base_uri": "https://localhost:8080/"
        },
        "outputId": "76f2a93c-d7ac-4d90-a3ca-b5844d57e53a"
      },
      "source": [
        "valor_solicitado = float(input('Digite o valor solicitado (mínimo de R$ 10.00 e máximo R$600.00): '))\n",
        "\n",
        "qtde_nota_100 = valor_solicitado // 100\n",
        "valor_solicitado %= 100\n",
        "print(f'A quantidade de notas de 100 necessárias são: {qtde_nota_100}')\n",
        "\n",
        "qtde_nota_50 = valor_solicitado // 50\n",
        "valor_solicitado %= 50\n",
        "print(f'A quantidade de notas de 50 necessárias são: {qtde_nota_50}')\n",
        "\n",
        "qtde_nota_10 = valor_solicitado // 10\n",
        "valor_solicitado %= 10\n",
        "print(f'A quantidade de notas de 10 necessárias são: {qtde_nota_10}')\n",
        "\n",
        "qtde_nota_5 = valor_solicitado // 5\n",
        "valor_solicitado %= 5\n",
        "print(f'A quantidade de notas de 5 necessárias são: {qtde_nota_5}')\n",
        "\n",
        "qtde_nota_1 = valor_solicitado // 1\n",
        "print(f'A quantidade de notas de 1 necessárias são: {qtde_nota_1} ')\n",
        "\n"
      ],
      "execution_count": 21,
      "outputs": [
        {
          "output_type": "stream",
          "text": [
            "Digite o valor solicitado (mínimo de R$ 10.00 e máximo R$600.00): 256\n",
            "A quantidade de notas de 100 necessárias são: 2.0\n",
            "A quantidade de notas de 50 necessárias são: 1.0\n",
            "A quantidade de notas de 10 necessárias são: 0.0\n",
            "A quantidade de notas de 5 necessárias são: 1.0\n",
            "A quantidade de notas de 1 necessárias são: 1.0 \n"
          ],
          "name": "stdout"
        }
      ]
    }
  ]
}