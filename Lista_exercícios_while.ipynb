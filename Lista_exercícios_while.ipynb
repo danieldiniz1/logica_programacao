{
 "cells": [
  {
   "cell_type": "markdown",
   "metadata": {},
   "source": [
    "# Lista Exercícios - While\n"
   ]
  },
  {
   "cell_type": "markdown",
   "metadata": {},
   "source": [
    "Exercício 1 - Faça um programa que leia dez conjuntos de dois valores, o primeiro representando o número do aluno e o segundo representando a sua altura em metros.  Encontre o aluno mais alto e o mais baixo. Mostre o número do aluno mais alto e o número do aluno mais baixo, junto com suas alturas."
   ]
  },
  {
   "cell_type": "code",
   "execution_count": 21,
   "metadata": {},
   "outputs": [],
   "source": [
    "def aluno_mais_alto(lista_alturas):\n",
    "    maior_altura = max(lista_alturas)\n",
    "    indice = lista_alturas.index(maior_altura)\n",
    "    return(maior_altura, indice)\n",
    "\n",
    "def aluno_mais_baixo(lista_alturas):\n",
    "    menor_altura = min(lista_alturas)\n",
    "    indice = lista_alturas.index(menor_altura)\n",
    "    return(menor_altura, indice)"
   ]
  },
  {
   "cell_type": "code",
   "execution_count": 35,
   "metadata": {},
   "outputs": [
    {
     "name": "stdout",
     "output_type": "stream",
     "text": [
      "Digite a quantidade de alunos: 3\n",
      "Digite o número do aluno: 1\n",
      "Digite a altura (em centímetros) do aluno: 1.1\n",
      "Digite o número do aluno: 2\n",
      "Digite a altura (em centímetros) do aluno: 1.2\n",
      "Digite o número do aluno: 3\n",
      "Digite a altura (em centímetros) do aluno: 1.3\n"
     ]
    }
   ],
   "source": [
    "qtde_alunos = int(input('Digite a quantidade de alunos: '))\n",
    "lista_alunos = []\n",
    "alturas = []\n",
    "contador = 1\n",
    "\n",
    "while contador <= qtde_alunos:\n",
    "    numero_aluno = int(input('Digite o número do aluno: '))\n",
    "    lista_alunos.append(numero_aluno)\n",
    "    altura_aluno = float(input('Digite a altura (em centímetros) do aluno: '))\n",
    "    alturas.append(altura_aluno)\n",
    "    contador += 1\n",
    "\n"
   ]
  },
  {
   "cell_type": "code",
   "execution_count": 59,
   "metadata": {},
   "outputs": [
    {
     "name": "stdout",
     "output_type": "stream",
     "text": [
      "O aluno mais alto é o 3 com 1.3 metros!\n",
      "O aluno mais baixo é o 1º com 1.1 metros!\n"
     ]
    }
   ],
   "source": [
    "maior_altura, i_maior = aluno_mais_alto(alturas)\n",
    "print(f'O aluno mais alto é o {lista_alunos[i_maior]} com {maior_altura} metros!')\n",
    "\n",
    "menor_altura, i_menor = aluno_mais_baixo(alturas)\n",
    "print(f'O aluno mais baixo é o {lista_alunos[i_menor]}º com {menor_altura} metros!')"
   ]
  },
  {
   "cell_type": "markdown",
   "metadata": {},
   "source": [
    "Exercício 2 - Escreva um programa que pede a senha ao usuário, e só sai do looping quando digitarem corretamente a senha.\n"
   ]
  },
  {
   "cell_type": "code",
   "execution_count": 61,
   "metadata": {},
   "outputs": [
    {
     "name": "stdout",
     "output_type": "stream",
     "text": [
      "Digite sua senha: asdas\n",
      "Senha inválida, digite novamente!\n",
      "Digite sua senha: safasd\n",
      "Senha inválida, digite novamente!\n",
      "Digite sua senha: 123456\n",
      "Login Aprovado!\n"
     ]
    }
   ],
   "source": [
    "senha_salva = '123456'\n",
    "senha_digitada = input('Digite sua senha: ')\n",
    "\n",
    "while senha_digitada != senha_salva:\n",
    "    print('Senha inválida, digite novamente!')\n",
    "    senha_digitada = input('Digite sua senha: ')\n",
    "else:\n",
    "    print('Login Aprovado!')\n",
    "    "
   ]
  },
  {
   "cell_type": "markdown",
   "metadata": {},
   "source": [
    "#Exercício 3 \n",
    "Em uma eleição presidencial existem quatro candidatos. Os votos são informados por meio de código. \n",
    "Os códigos utilizados são:\n",
    "        \n",
    "*\t1 , 2, 3  - Votos para os respectivos candidatos (você deve montar a tabela ex: 1 - Jose/ 2- João/etc);\n",
    "*\t5 - Voto Nulo;\n",
    "*\t6 - Voto em Branco;\n",
    "    \n",
    "        Faça um programa que calcule e mostre:\n",
    "    \n",
    "*\tO total de votos para cada candidato;\n",
    "*\tO total de votos nulos;\n",
    "*\tO total de votos em branco;\n",
    "*\tA percentagem de votos nulos sobre o total de votos;\n",
    "*\tA percentagem de votos em branco sobre o total de votos. \n"
   ]
  },
  {
   "cell_type": "code",
   "execution_count": 76,
   "metadata": {},
   "outputs": [],
   "source": [
    "def contagem_votos(lista, valor): \n",
    "    votos_valor = lista.count(valor)\n",
    "    return votos_valor"
   ]
  },
  {
   "cell_type": "code",
   "execution_count": 92,
   "metadata": {},
   "outputs": [
    {
     "name": "stdout",
     "output_type": "stream",
     "text": [
      "Digite seu voto (apenas o número do candidato): -1\n",
      "Voto inválido\n",
      "Digite seu voto (apenas o número do candidato): 1\n",
      "Deseja incluir novo voto? [s/n]s\n",
      "Digite seu voto (apenas o número do candidato): 2\n",
      "Deseja incluir novo voto? [s/n]s\n",
      "Digite seu voto (apenas o número do candidato): 4\n",
      "Deseja incluir novo voto? [s/n]s\n",
      "Digite seu voto (apenas o número do candidato): 4\n",
      "Deseja incluir novo voto? [s/n]s\n",
      "Digite seu voto (apenas o número do candidato): 2\n",
      "Deseja incluir novo voto? [s/n]s\n",
      "Digite seu voto (apenas o número do candidato): 5\n",
      "Deseja incluir novo voto? [s/n]s\n",
      "Digite seu voto (apenas o número do candidato): 5\n",
      "Deseja incluir novo voto? [s/n]s\n",
      "Digite seu voto (apenas o número do candidato): 6\n",
      "Deseja incluir novo voto? [s/n]s\n",
      "Digite seu voto (apenas o número do candidato): 6\n",
      "Deseja incluir novo voto? [s/n]s\n",
      "Digite seu voto (apenas o número do candidato): 6\n",
      "Deseja incluir novo voto? [s/n]n\n",
      "['jose', 'maria', 'joana', 'joana', 'maria', 'Nulo', 'Nulo', 'Branco', 'Branco', 'Branco']\n"
     ]
    }
   ],
   "source": [
    "candidatos = ['jose', 'maria', 'joao', 'joana', 'Nulo', 'Branco']\n",
    "numero_candidato = [1, 2, 3, 4, 5, 6]\n",
    "votos = []\n",
    "opc = 1\n",
    "\n",
    "while opc == 1:\n",
    "    voto = int(input('Digite seu voto (apenas o número do candidato): '))\n",
    "    while voto not in numero_candidato:\n",
    "        print('Voto inválido')\n",
    "        voto = int(input('Digite seu voto (apenas o número do candidato): '))\n",
    "    i = numero_candidato.index(voto)\n",
    "    votos.append(candidatos[i])\n",
    "    resp = input('Deseja incluir novo voto? [s/n]').lower()\n",
    "    while resp != 's' and resp != 'n':\n",
    "        print('Resposta inválida')\n",
    "        resp = input('Deseja incluir novo voto? [s/n]').lower()\n",
    "    if resp == 'n':\n",
    "        opc = 0\n",
    "print(votos)\n",
    "\n"
   ]
  },
  {
   "cell_type": "code",
   "execution_count": 94,
   "metadata": {},
   "outputs": [
    {
     "name": "stdout",
     "output_type": "stream",
     "text": [
      "O candidato José obeteve 1 votos válidos com percentual de 10.00%, \n",
      "A candidata Maria obteve 2 votos válidos com percentual de 20.00%, \n",
      "O candidato Joao obeteve 0 votos válidos com percentual de 0.00%,\n",
      "A candidata Joana obteve 2 votos válidos com percentual de 20.00%,\n",
      "obtivemos 2 votos nulos que correspondem a 20.00% do total de votos\n",
      "obtivemos 3 votos em branco que correspondem a 30.00% do total de votos\n"
     ]
    }
   ],
   "source": [
    "votos_jose = contagem_votos(votos, 'jose')\n",
    "votos_maria = contagem_votos(votos, 'maria')\n",
    "votos_joao = contagem_votos(votos, 'joao')\n",
    "votos_joana = contagem_votos(votos, 'joana')\n",
    "votos_nulo = contagem_votos(votos, 'Nulo')\n",
    "votos_branco = contagem_votos(votos, 'Branco')\n",
    "total_votos = len(votos)\n",
    "\n",
    "print(f'''O candidato José obeteve {votos_jose} votos válidos com percentual de {votos_jose / total_votos:.2%}, \n",
    "A candidata Maria obteve {votos_maria} votos válidos com percentual de {votos_maria / total_votos:.2%}, \n",
    "O candidato Joao obeteve {votos_joao} votos válidos com percentual de {votos_joao / total_votos:.2%},\n",
    "A candidata Joana obteve {votos_joana} votos válidos com percentual de {votos_joana / total_votos:.2%},\n",
    "obtivemos {votos_nulo} votos nulos que correspondem a {votos_nulo / total_votos:.2%} do total de votos\n",
    "obtivemos {votos_branco} votos em branco que correspondem a {votos_branco / total_votos:.2%} do total de votos''')"
   ]
  },
  {
   "cell_type": "markdown",
   "metadata": {},
   "source": [
    "Exercício 4 – Codifique um jogo da FORCA. A pessoa digita uma letra e tem que acertar a palavra digitada."
   ]
  },
  {
   "cell_type": "code",
   "execution_count": 100,
   "metadata": {},
   "outputs": [
    {
     "name": "stdout",
     "output_type": "stream",
     "text": [
      "Digite uma letra: w\n",
      "Voce errou, restam ainda 9 tentativas!\n",
      "Digite uma letra: p\n",
      "Voce errou, restam ainda 8 tentativas!\n",
      "Digite uma letra: f\n",
      "Parabéns, a letra F existe na palavra!\n",
      "Digite uma letra: p\n",
      "Voce errou, restam ainda 6 tentativas!\n",
      "Digite uma letra: o\n",
      "Parabéns, a letra O existe na palavra!\n",
      "Digite uma letra: r\n",
      "Parabéns, a letra R existe na palavra!\n",
      "Digite uma letra: c\n",
      "Parabéns, a letra C existe na palavra!\n",
      "Digite uma letra: a\n",
      "Parabéns, a letra A existe na palavra!\n",
      "Fim do jogo, voce acertou a palavra FORCA e VENCEU!!\n"
     ]
    }
   ],
   "source": [
    "palavra_chave = 'FORCA'\n",
    "tentativas = len(palavra_chave) + 5\n",
    "lista_acertos = []\n",
    "\n",
    "opc = 0\n",
    "while opc <= tentativas:\n",
    "    letra = input('Digite uma letra: ').upper()\n",
    "    opc += 1\n",
    "    if letra in palavra_chave:\n",
    "        print(f'Parabéns, a letra {letra} existe na palavra!')\n",
    "        lista_acertos.append(letra)\n",
    "    else:\n",
    "        print(f'Voce errou, restam ainda {tentativas - opc} tentativas!')\n",
    "    if len(palavra_chave) == len(lista_acertos):\n",
    "        break\n",
    "\n",
    "if len(palavra_chave) == len(lista_acertos):\n",
    "    print(f'Fim do jogo, voce acertou a palavra {palavra_chave} e VENCEU!!')\n",
    "else:\n",
    "    print(f'Não foi desta vez, mas você pode tentar de novo. Boa Sorte!')\n"
   ]
  },
  {
   "cell_type": "raw",
   "metadata": {},
   "source": [
    " Desenvolver um programa para verificar a nota do aluno em uma prova com 10 questões,\n",
    "o programa deve perguntar ao aluno a resposta de cada questão e ao final comparar com o gabarito da prova assim calcular o total de acertos e a nota (atribuir 1 ponto por resposta certa).  Após cada aluno utilizar o sistema deve ser feita uma pergunta se outro aluno vai utilizar o sistema. \n",
    "Após todos os alunos terem respondido informar:\n",
    "*\tMaior e Menor Acerto;\n",
    "*\tTotal de Alunos que utilizaram o sistema;\n",
    "*\tA Média das Notas da Turma.\n",
    " \n",
    " Gabarito da Prova:\n",
    " 01 - A\n",
    " 02 - B\n",
    " 03 - C\n",
    " 04 - D\n",
    " 05 - E\n",
    " 06 - E\n",
    " 07 - D\n",
    " 08 - C\n",
    " 09 - B\n",
    " 10 - A\n",
    "\n",
    "Após concluir isto você poderia incrementar o programa permitindo que o professor digite o gabarito da prova # antes dos alunos usarem o programa.\n"
   ]
  },
  {
   "cell_type": "code",
   "execution_count": 141,
   "metadata": {
    "scrolled": true
   },
   "outputs": [],
   "source": [
    "def gabarito_prova():\n",
    "    qtde_questoes = int(input('Digite a quantidade de questões: '))\n",
    "    questoes = list(range(1, qtde_questoes + 1))\n",
    "    respostas = []\n",
    "    opc = 1\n",
    "    while opc <= qtde_questoes:\n",
    "        resposta = input(f'Qual a resposta para a {opc}º questão: ').lower()\n",
    "        respostas.append(resposta)\n",
    "        opc += 1\n",
    "    return (questoes, respostas)\n",
    "\n",
    "def respostas_aluno():\n",
    "    qtde_questoes = int(input('Digite a quantidade de questões: '))\n",
    "    questoes = list(range(1, qtde_questoes + 1))\n",
    "    respostas = []\n",
    "    nome = input('Digite seu nome: ')\n",
    "    opc = 1\n",
    "    while opc <= qtde_questoes:\n",
    "        resposta = input(f'Qual a resposta para a {opc}º questão: ').lower()\n",
    "        respostas.append(resposta)\n",
    "        opc += 1\n",
    "    return (questoes, respostas, nome)\n",
    "\n",
    "def contar_acertos(questoes, respostas, gabarito):\n",
    "    contador_acertos = 0\n",
    "    for i, questao in enumerate(questoes):\n",
    "        if respostas[i] == gabarito[i]:\n",
    "            contador_acertos += 1\n",
    "    return contador_acertos"
   ]
  },
  {
   "cell_type": "code",
   "execution_count": 112,
   "metadata": {},
   "outputs": [
    {
     "name": "stdout",
     "output_type": "stream",
     "text": [
      "Digite a quantidade de questões: 10\n",
      "Qual a resposta para a 1º questão: a\n",
      "Qual a resposta para a 2º questão: B\n",
      "Qual a resposta para a 3º questão: C\n",
      "Qual a resposta para a 4º questão: D\n",
      "Qual a resposta para a 5º questão: e\n",
      "Qual a resposta para a 6º questão: e\n",
      "Qual a resposta para a 7º questão: d\n",
      "Qual a resposta para a 8º questão: c\n",
      "Qual a resposta para a 9º questão: b\n",
      "Qual a resposta para a 10º questão: a\n",
      "[1, 2, 3, 4, 5, 6, 7, 8, 9, 10]\n",
      "['a', 'b', 'c', 'd', 'e', 'e', 'd', 'c', 'b', 'a']\n"
     ]
    }
   ],
   "source": [
    "questoes, gabarito = gabarito_prova()\n",
    "print(questoes)\n",
    "print(gabarito)"
   ]
  },
  {
   "cell_type": "code",
   "execution_count": 119,
   "metadata": {},
   "outputs": [
    {
     "name": "stdout",
     "output_type": "stream",
     "text": [
      "Digite a quantidade de questões: 10\n",
      "Digite seu nome: Daniel\n",
      "Qual a resposta para a 1º questão: a\n",
      "Qual a resposta para a 2º questão: a\n",
      "Qual a resposta para a 3º questão: a\n",
      "Qual a resposta para a 4º questão: a\n",
      "Qual a resposta para a 5º questão: a\n",
      "Qual a resposta para a 6º questão: a\n",
      "Qual a resposta para a 7º questão: a\n",
      "Qual a resposta para a 8º questão: a\n",
      "Qual a resposta para a 9º questão: a\n",
      "Qual a resposta para a 10º questão: a\n",
      "[1, 2, 3, 4, 5, 6, 7, 8, 9, 10]\n",
      "['a', 'a', 'a', 'a', 'a', 'a', 'a', 'a', 'a', 'a']\n",
      "Daniel\n"
     ]
    }
   ],
   "source": [
    "questoes, respostas, nome = respostas_aluno()\n",
    "print(questoes)\n",
    "print(respostas)\n",
    "print(nome)"
   ]
  },
  {
   "cell_type": "code",
   "execution_count": 159,
   "metadata": {},
   "outputs": [
    {
     "name": "stdout",
     "output_type": "stream",
     "text": [
      "Digite a quantidade de questões: 10\n",
      "Digite seu nome: Daniel\n",
      "Qual a resposta para a 1º questão: a\n",
      "Qual a resposta para a 2º questão: b\n",
      "Qual a resposta para a 3º questão: c\n",
      "Qual a resposta para a 4º questão: d\n",
      "Qual a resposta para a 5º questão: e\n",
      "Qual a resposta para a 6º questão: e\n",
      "Qual a resposta para a 7º questão: d\n",
      "Qual a resposta para a 8º questão: c\n",
      "Qual a resposta para a 9º questão: b\n",
      "Qual a resposta para a 10º questão: a\n",
      "Inserir nota de outro aluno? [S/N]w\n",
      "Resposta Inválida\n",
      "Inserir nota de outro aluno? [S/N]s\n",
      "Digite a quantidade de questões: 10\n",
      "Digite seu nome: Gabi\n",
      "Qual a resposta para a 1º questão: a\n",
      "Qual a resposta para a 2º questão: b\n",
      "Qual a resposta para a 3º questão: c\n",
      "Qual a resposta para a 4º questão: d\n",
      "Qual a resposta para a 5º questão: e\n",
      "Qual a resposta para a 6º questão: e\n",
      "Qual a resposta para a 7º questão: d\n",
      "Qual a resposta para a 8º questão: c\n",
      "Qual a resposta para a 9º questão: c\n",
      "Qual a resposta para a 10º questão: a\n",
      "Inserir nota de outro aluno? [S/N]s\n",
      "Digite a quantidade de questões: 10\n",
      "Digite seu nome: Raquel\n",
      "Qual a resposta para a 1º questão: c\n",
      "Qual a resposta para a 2º questão: d\n",
      "Qual a resposta para a 3º questão: a\n",
      "Qual a resposta para a 4º questão: b\n",
      "Qual a resposta para a 5º questão: c\n",
      "Qual a resposta para a 6º questão: d\n",
      "Qual a resposta para a 7º questão: a\n",
      "Qual a resposta para a 8º questão: d\n",
      "Qual a resposta para a 9º questão: c\n",
      "Qual a resposta para a 10º questão: a\n",
      "Inserir nota de outro aluno? [S/N]n\n",
      "Fim das entradas de notas!\n",
      "O aluno que teve a maior nota foi Daniel com 10 acertos, \n",
      "O aluno que teve a menor nota foi Raquel com 1 acertos,\n",
      "O total de alunos que utilizaram o sistema foi 3,\n",
      "E a média global da turma foi 6.666666666666667.\n"
     ]
    }
   ],
   "source": [
    "nomes = []\n",
    "lista_acertos = []\n",
    "opc = 1\n",
    "\n",
    "while opc == 1:\n",
    "    questoes, respostas, nome = respostas_aluno()\n",
    "    nomes.append(nome)\n",
    "    acertos = contar_acertos(questoes, respostas, gabarito)\n",
    "    lista_acertos.append(acertos)\n",
    "    resp = input('Inserir nota de outro aluno? [S/N]').upper()\n",
    "    while resp != 'S' and resp != \"N\":\n",
    "        print('Resposta Inválida')\n",
    "        resp = input('Inserir nota de outro aluno? [S/N]').upper()\n",
    "    if resp == 'N':\n",
    "        print('Fim das entradas de notas!')\n",
    "        opc = 0\n",
    "\n",
    "maior_acerto = max(lista_acertos)\n",
    "nome_maior_acerto = nomes[lista_acertos.index(maior_acerto)]\n",
    "\n",
    "menor_acerto = min(lista_acertos)\n",
    "nome_menor_acerto = nomes[lista_acertos.index(menor_acerto)]\n",
    "\n",
    "total_alunos = len(nomes)\n",
    "\n",
    "media_turma = sum(lista_acertos) / total_alunos\n",
    "\n",
    "print(f'''O aluno que teve a maior nota foi {nome_maior_acerto} com {maior_acerto} acertos, \n",
    "O aluno que teve a menor nota foi {nome_menor_acerto} com {menor_acerto} acertos,\n",
    "O total de alunos que utilizaram o sistema foi {total_alunos},\n",
    "E a média global da turma foi {media_turma}.''')"
   ]
  }
 ],
 "metadata": {
  "kernelspec": {
   "display_name": "Python 3",
   "language": "python",
   "name": "python3"
  },
  "language_info": {
   "codemirror_mode": {
    "name": "ipython",
    "version": 3
   },
   "file_extension": ".py",
   "mimetype": "text/x-python",
   "name": "python",
   "nbconvert_exporter": "python",
   "pygments_lexer": "ipython3",
   "version": "3.8.5"
  }
 },
 "nbformat": 4,
 "nbformat_minor": 4
}
