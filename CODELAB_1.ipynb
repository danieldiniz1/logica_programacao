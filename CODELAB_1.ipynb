{
  "nbformat": 4,
  "nbformat_minor": 0,
  "metadata": {
    "colab": {
      "name": "CODELAB_1.ipynb",
      "provenance": [],
      "authorship_tag": "ABX9TyPBcrHrSlCqQNQBnV3+UYfk",
      "include_colab_link": true
    },
    "kernelspec": {
      "name": "python3",
      "display_name": "Python 3"
    },
    "language_info": {
      "name": "python"
    }
  },
  "cells": [
    {
      "cell_type": "markdown",
      "metadata": {
        "id": "view-in-github",
        "colab_type": "text"
      },
      "source": [
        "<a href=\"https://colab.research.google.com/github/danieldiniz1/logica_programacao/blob/main/CODELAB_1.ipynb\" target=\"_parent\"><img src=\"https://colab.research.google.com/assets/colab-badge.svg\" alt=\"Open In Colab\"/></a>"
      ]
    },
    {
      "cell_type": "markdown",
      "metadata": {
        "id": "QmK9PEiHwi42"
      },
      "source": [
        "#Exercícios\n",
        "\n",
        "\n"
      ]
    },
    {
      "cell_type": "markdown",
      "metadata": {
        "id": "YmegGPeSVF9E"
      },
      "source": [
        ""
      ]
    },
    {
      "cell_type": "code",
      "metadata": {
        "colab": {
          "base_uri": "https://localhost:8080/"
        },
        "id": "-o8b_uufwq6a",
        "outputId": "777026da-e1d3-42a3-b3c0-786c0cf71723"
      },
      "source": [
        "valor_refeicao = float(input('Qual o valor à pagar: '))\n",
        "taxa_servico = 0.1\n",
        "\n",
        "valor_pagar = valor_refeicao * (1 + taxa_servico)\n",
        "print(f'O valor a pagar é de R${valor_pagar:.2f}.')\n"
      ],
      "execution_count": null,
      "outputs": [
        {
          "output_type": "stream",
          "text": [
            "Qual o valor à pagar: 2563.36\n",
            "O valor a pagar é de R$2819.70.\n"
          ],
          "name": "stdout"
        }
      ]
    },
    {
      "cell_type": "code",
      "metadata": {
        "id": "zjBbqjvS2DpT",
        "colab": {
          "base_uri": "https://localhost:8080/"
        },
        "outputId": "ecabab4e-5541-4703-98d5-8b6fd8eb7d7a"
      },
      "source": [
        "ano_nascimento = 1993\n",
        "ano_atual = 2021\n",
        "\n",
        "idade = ano_atual - ano_nascimento\n",
        "print(f'Sua idade é {idade}!')"
      ],
      "execution_count": 1,
      "outputs": [
        {
          "output_type": "stream",
          "text": [
            "Sua idade é 28!\n"
          ],
          "name": "stdout"
        }
      ]
    },
    {
      "cell_type": "markdown",
      "metadata": {
        "id": "En3E4bpiVE12"
      },
      "source": [
        "2. **Etiqueta** - Elabore um programa que escreve seu nome completo na primeira linha, seu endereço na segunda e o CEP e telefone na terceira."
      ]
    },
    {
      "cell_type": "code",
      "metadata": {
        "colab": {
          "base_uri": "https://localhost:8080/"
        },
        "id": "ZZn65oniVHsH",
        "outputId": "bf735e91-d06f-4441-834d-75009c853224"
      },
      "source": [
        "nome = 'Daniel'\n",
        "endereco = 'Rua xxxxxx'\n",
        "cep = '13050-063'\n",
        "\n",
        "print(nome,'\\n', endereco,'\\n', cep)"
      ],
      "execution_count": null,
      "outputs": [
        {
          "output_type": "stream",
          "text": [
            "Daniel \n",
            " Rua xxxxxx \n",
            " 13050-063\n"
          ],
          "name": "stdout"
        }
      ]
    },
    {
      "cell_type": "markdown",
      "metadata": {
        "id": "QjOjYlF_U_IK"
      },
      "source": [
        "4. **Tabela de notas** - Você foi contratado ou contratada por uma escola pra fazer o sistema de boletim dos alunos. Como primeiro passo, escreva um programa que produza a seguinte saída:\n",
        "```\n",
        "ALUNO (A)  NOTA\n",
        "=========  ====\n",
        "ALINE      9.0\n",
        "MÁRIO      DEZ\n",
        "SÉRGIO     4.5\n",
        "SHIRLEY    7.0\n",
        "```\n"
      ]
    },
    {
      "cell_type": "code",
      "metadata": {
        "colab": {
          "base_uri": "https://localhost:8080/"
        },
        "id": "qitlQ1l7cOHG",
        "outputId": "05f54a12-6398-4b8d-dfe0-7538bef58b93"
      },
      "source": [
        "print(\"aluno (a)  \",\"  nota\")\n",
        "print(\"========== \",\"  ====\")\n",
        "print(\"aline      \",\"  9.0  \")\n",
        "print(\"Mário      \",\"  Dez \")\n",
        "print(\"Sérgio     \",\"  4.5  \")\n",
        "print(\"Shirley    \",\"  7.0  \")\n"
      ],
      "execution_count": null,
      "outputs": [
        {
          "output_type": "stream",
          "text": [
            "aluno (a)     nota\n",
            "==========    ====\n",
            "aline         9.0  \n",
            "Mário         Dez \n",
            "Sérgio        4.5  \n",
            "Shirley       7.0  \n"
          ],
          "name": "stdout"
        }
      ]
    },
    {
      "cell_type": "markdown",
      "metadata": {
        "id": "JJp6Uw9rVYB-"
      },
      "source": [
        "5. **Menu** - Elabore um programa que mostre o seguinte menu na tela:\n",
        "```\n",
        "Cadastro de Clientes\n",
        "0 - Fim\n",
        "1 - Inclui\n",
        "2 - Altera\n",
        "3 - Exclui\n",
        "4 - Consulta\n",
        "Digite uma opção: \n",
        "```\n",
        "Ao digitar um valor para a opção, o programa exibe qual opção foi escolhida.\n"
      ]
    },
    {
      "cell_type": "code",
      "metadata": {
        "colab": {
          "base_uri": "https://localhost:8080/"
        },
        "id": "VeaANUI1Vecp",
        "outputId": "ecbf2b1a-fbaf-4c5f-83d1-5e0404cbdff9"
      },
      "source": [
        "operacao = int(input('Digite a operacao (0 - Fim; 1 - Inclui; 2 - Altera; 3 - Exclui; 4 - Consulta): '))\n",
        "\n",
        "print(f'Você escolheu a opção {operacao}')"
      ],
      "execution_count": 4,
      "outputs": [
        {
          "output_type": "stream",
          "text": [
            "Digite a operacao (0 - Fim; 1 - Inclui; 2 - Altera; 3 - Exclui; 4 - Consulta): 4\n",
            "Você escolheu a opção 4\n"
          ],
          "name": "stdout"
        }
      ]
    },
    {
      "cell_type": "markdown",
      "metadata": {
        "id": "ZdJnBq0zWD-c"
      },
      "source": [
        "6. **Calculadora de Dano** - Escreva um programa que receba dois valores digitados pelo usuário:\n",
        "  - Quantidade de vida de um monstro (entre 10 e 50);\n",
        "  - Valor do ataque do jogador por turno (entre 5 e 10);\n",
        "  - Baseado nos valores digitados, exiba a quantidade de turnos que o jogador irá demorar para conseguir derrotar o monstro.\n",
        "  - ```\n",
        "    O jogador irá derrotar o monstro em 8 turnos.\n"
      ]
    },
    {
      "cell_type": "code",
      "metadata": {
        "colab": {
          "base_uri": "https://localhost:8080/"
        },
        "id": "EDadtFRgV5nX",
        "outputId": "55d94ef5-33e7-4508-ba69-6ae28c71b42e"
      },
      "source": [
        "vida_monstro = int(input('Digite a quantidade de vida do monstro (10 à 50): '))\n",
        "valor_ataque = int(input('Digite o valor do ataque (5 à 10)'))\n",
        "\n",
        "qtde_ataques_necessario_destruir = vida_monstro // valor_ataque + 1\n",
        "\n",
        "if vida_monstro % valor_ataque != 0:\n",
        "  print(f'O jogador irá derrotar o monstro em {qtde_ataques_necessario_destruir} turnos')\n",
        "else:\n",
        "  print(f'O jogador irá derrotar o monstro em {qtde_ataques_necessario_destruir - 1} turnos')"
      ],
      "execution_count": 7,
      "outputs": [
        {
          "output_type": "stream",
          "text": [
            "Digite a quantidade de vida do monstro (10 à 50): 50\n",
            "Digite o valor do ataque (5 à 10)6\n",
            "O jogador irá derrotar o monstro em 9 turnos\n"
          ],
          "name": "stdout"
        }
      ]
    }
  ]
}