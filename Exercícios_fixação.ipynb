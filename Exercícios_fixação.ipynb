{
 "cells": [
  {
   "cell_type": "markdown",
   "metadata": {},
   "source": [
    "# Exercício 1  \n",
    "    Dado uma string com uma frase informada pelo usuário (incluindo espaços em branco), conte quantas vezes aparecem as vogais a,e,i,o,u\n",
    "    "
   ]
  },
  {
   "cell_type": "code",
   "execution_count": 6,
   "metadata": {},
   "outputs": [
    {
     "name": "stdout",
     "output_type": "stream",
     "text": [
      "Digite uma frase: teste\n",
      "Em sua frase, aparecem 2 vogais!\n"
     ]
    }
   ],
   "source": [
    "frase = input('Digite uma frase: ')\n",
    "vogais = ['a', 'e', 'i', 'o', 'u']\n",
    "\n",
    "contador_vogais = 0\n",
    "for letra in frase:\n",
    "    if letra in vogais:\n",
    "        contador_vogais += 1\n",
    "print(f'Em sua frase, aparecem {contador_vogais} vogais!')"
   ]
  },
  {
   "cell_type": "markdown",
   "metadata": {},
   "source": [
    "# Exercício 2  \n",
    "    Desenvolva um código que pergunte um número n para o usuário e exiba todos seus divisores\n",
    "    "
   ]
  },
  {
   "cell_type": "code",
   "execution_count": 13,
   "metadata": {},
   "outputs": [
    {
     "name": "stdout",
     "output_type": "stream",
     "text": [
      "Digite um número: 150\n",
      "1\n",
      "2\n",
      "3\n",
      "5\n",
      "6\n",
      "10\n",
      "15\n",
      "25\n",
      "30\n",
      "50\n",
      "75\n",
      "O número 150 possui 11 divisores.\n"
     ]
    }
   ],
   "source": [
    "numero_usuario = int(input('Digite um número: '))\n",
    "\n",
    "contador_divisores = 0\n",
    "for numero in range(1, numero_usuario):\n",
    "    if numero_usuario % numero == 0:\n",
    "        contador_divisores +=1\n",
    "        print(numero)\n",
    "print(f'O número {numero_usuario} possui {contador_divisores} divisores.')"
   ]
  },
  {
   "cell_type": "markdown",
   "metadata": {},
   "source": [
    "# Exercício 3 \n",
    "    Escreva um programa onde o usuário digite uma frase e essa mesma frase é  reescrita sem nenhuma vogal."
   ]
  },
  {
   "cell_type": "code",
   "execution_count": 15,
   "metadata": {},
   "outputs": [
    {
     "name": "stdout",
     "output_type": "stream",
     "text": [
      "Digite uma frase: asbdiahsuifgasdfsd\n",
      "A frase sem vogais é: ['s', 'b', 'd', 'h', 's', 'f', 'g', 's', 'd', 'f', 's', 'd']\n"
     ]
    }
   ],
   "source": [
    "frase = input('Digite uma frase: ')\n",
    "vogais = ['a', 'e', 'i', 'o', 'u']\n",
    "frase_sem_vogais = []\n",
    "\n",
    "for letra in frase:\n",
    "    if letra not in vogais:\n",
    "        frase_sem_vogais.append(letra)\n",
    "        \n",
    "print(f'A frase sem vogais é: {frase_sem_vogais}')"
   ]
  },
  {
   "cell_type": "markdown",
   "metadata": {},
   "source": [
    "# Exercício 4  \n",
    "    Dada a lista L = [5, 7, 2, 9, 4, 1, 3], escreva um programa que imprima as seguintes informações:\n",
    "        a) tamanho da lista.\n",
    "        b) maior valor da lista.\n",
    "        c) menor valor da lista.\n",
    "        d) soma de todos os elementos da lista.\n",
    "        e) lista em ordem crescente.\n",
    "        f) lista em ordem decrescente.\n"
   ]
  },
  {
   "cell_type": "code",
   "execution_count": 16,
   "metadata": {},
   "outputs": [
    {
     "name": "stdout",
     "output_type": "stream",
     "text": [
      "7\n",
      "9\n",
      "1\n",
      "31\n",
      "[1, 2, 3, 4, 5, 7, 9]\n",
      "[9, 7, 5, 4, 3, 2, 1]\n"
     ]
    }
   ],
   "source": [
    "lista = [5, 7, 2, 9, 4, 1, 3]\n",
    "\n",
    "# - a)\n",
    "print(len(lista))\n",
    "\n",
    "# - b)\n",
    "print(max(lista))\n",
    "\n",
    "# - c)\n",
    "print(min(lista))\n",
    "\n",
    "# - d)\n",
    "print(sum(lista))\n",
    "\n",
    "# - e)\n",
    "lista.sort()\n",
    "print(lista)\n",
    "\n",
    "# - e)\n",
    "lista.sort(reverse=True)\n",
    "print(lista)\n"
   ]
  }
 ],
 "metadata": {
  "kernelspec": {
   "display_name": "Python 3",
   "language": "python",
   "name": "python3"
  },
  "language_info": {
   "codemirror_mode": {
    "name": "ipython",
    "version": 3
   },
   "file_extension": ".py",
   "mimetype": "text/x-python",
   "name": "python",
   "nbconvert_exporter": "python",
   "pygments_lexer": "ipython3",
   "version": "3.8.5"
  }
 },
 "nbformat": 4,
 "nbformat_minor": 4
}
